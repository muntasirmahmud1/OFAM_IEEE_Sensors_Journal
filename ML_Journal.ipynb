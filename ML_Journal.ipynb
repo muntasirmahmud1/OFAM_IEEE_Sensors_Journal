{
 "cells": [
  {
   "cell_type": "code",
   "execution_count": 1,
   "metadata": {},
   "outputs": [],
   "source": [
    "import pandas as pd\n",
    "import numpy as np\n",
    "from glob import glob\n",
    "from sklearn.model_selection import train_test_split\n",
    "from keras.models import Sequential\n",
    "from keras.layers import Dense\n",
    "from keras.layers import Flatten\n",
    "from keras.layers import Dropout\n",
    "from keras.layers import LSTM\n",
    "from keras.layers import TimeDistributed\n",
    "from keras.layers import ConvLSTM2D\n",
    "import matplotlib.pyplot as plt\n",
    "\n",
    "import time\n",
    "from tqdm import tqdm\n",
    "import random\n",
    "from astropy.stats import median_absolute_deviation\n",
    "from scipy.signal import butter,filtfilt\n",
    "from scipy.signal import butter, lfilter\n",
    "import scipy.stats\n",
    "import logging\n",
    "from sklearn.model_selection import KFold\n",
    "from sklearn.metrics import confusion_matrix\n",
    "from sklearn import metrics"
   ]
  },
  {
   "cell_type": "code",
   "execution_count": 2,
   "metadata": {},
   "outputs": [],
   "source": [
    "def butter_lowpass_filter(data, cutoff, fs, order):\n",
    "    nyq = 0.5 * fs  # Nyquist Frequency\n",
    "    normal_cutoff = cutoff / nyq\n",
    "    # Get the filter coefficients \n",
    "    b, a = butter(order, normal_cutoff, btype='low', analog=False)\n",
    "    y = filtfilt(b, a, data)\n",
    "    return y"
   ]
  },
  {
   "cell_type": "code",
   "execution_count": null,
   "metadata": {},
   "outputs": [],
   "source": [
    "def butter_bandpass(lowcut, highcut, fs, order=1):\n",
    "    return butter(order, [lowcut, highcut], fs=fs, btype='band')\n",
    "\n",
    "def butter_bandpass_filter(data, lowcut, highcut, fs, order=1):\n",
    "    b, a = butter_bandpass(lowcut, highcut, fs, order=order)\n",
    "    y = lfilter(b, a, data)\n",
    "    return y"
   ]
  },
  {
   "cell_type": "code",
   "execution_count": 3,
   "metadata": {},
   "outputs": [],
   "source": [
    "label = {\n",
    "    'L7cm_22mJ' : 0,\n",
    "    'L7cm_35mJ' : 1,\n",
    "    'L7cm_50mJ' : 2,\n",
    "    'L7cm_65mJ' : 3,\n",
    "    'L20cm_22mJ' : 4,\n",
    "    'L20cm_35mJ' : 5,\n",
    "    'L20cm_50mJ' : 6,\n",
    "    'L20cm_65mJ' : 7\n",
    "}\n",
    "e_t = []\n",
    "def prep_file(file):\n",
    "    file_name = file.split('/')[-2]\n",
    "    file_name = file_name.split('_')\n",
    "    file_name = file_name[0]+'_' +file_name[1]\n",
    "\n",
    "    x = np.array(pd.read_csv(file,header=None).iloc[15021:515021,1],dtype=np.float16)\n",
    "    x2 = x- np.mean(x)\n",
    "\n",
    "    x = butter_lowpass_filter(x, 200000, 100000000, 3)\n",
    "    #x = butter_bandpass_filter(x, 1000, 200000, 100000000, 1)\n",
    "    #x_fftp = x_fftp[:len(x_fftp)//2]\n",
    "    #freq = freq[:len(freq)//2]\n",
    "    x_fft_amp = np.fft.fft(x2)\n",
    "    x_fft_amp = np.abs(x_fft_amp.real[:3000])\n",
    "    freq = np.fft.fftfreq(n=x.size, d=1/100000000)\n",
    "    freq = freq[:3000]\n",
    "    \n",
    "    start_time = time.time()\n",
    "    x_t = np.r_[np.mean(x), np.std(x), np.var(x),\n",
    "                np.max(x), np.min(x), (np.max(x) - np.min(x)),\n",
    "                scipy.stats.skew(x), scipy.stats.kurtosis(x),\n",
    "                np.sum(np.multiply(x, x))]\n",
    "    \n",
    "    x_t = np.r_[x_t, np.mean(x_fft_amp), np.std(x_fft_amp), np.var(x_fft_amp),\n",
    "                median_absolute_deviation(x_fft_amp),\n",
    "                np.amax(x_fft_amp), freq[np.argmax(x_fft_amp)],\n",
    "                np.sum(np.multiply(x_fft_amp, x_fft_amp))]\n",
    "    end_time = time.time()\n",
    "\n",
    "    if np.isnan(x_t).any():\n",
    "        return 0\n",
    "    x_t = np.r_[x_t,np.array(label[file_name])]\n",
    "\n",
    "    # Calculate the execution time in milliseconds\n",
    "    feature_time_ms = (end_time - start_time) * 1000\n",
    "    e_t.append(feature_time_ms)\n",
    "    #print(f\"Feature extraction time: {feature_time_ms} ms\")\n",
    "    return x_t.reshape(1, len(x_t))"
   ]
  },
  {
   "cell_type": "code",
   "execution_count": 4,
   "metadata": {},
   "outputs": [
    {
     "name": "stderr",
     "output_type": "stream",
     "text": [
      "/usr/local/lib/python3.6/dist-packages/IPython/core/interactiveshell.py:3263: DtypeWarning: Columns (0,1) have mixed types.Specify dtype option on import or set low_memory=False.\n",
      "  if (await self.run_code(code, result,  async_=asy)):\n",
      " 46%|████▌     | 1109/2400 [05:31<06:02,  3.56it/s]"
     ]
    },
    {
     "name": "stdout",
     "output_type": "stream",
     "text": [
      "./updated_dataset/old_underwater_dataset/L20cm_22mJ_90d/tek0301CH1.csvis not properly formated\n"
     ]
    },
    {
     "name": "stderr",
     "output_type": "stream",
     "text": [
      "100%|██████████| 2400/2400 [12:01<00:00,  3.33it/s]\n"
     ]
    }
   ],
   "source": [
    "dirtory = glob('./updated_dataset/old_underwater_dataset/*/*.csv')\n",
    "random.shuffle(dirtory)\n",
    "\n",
    "x = prep_file(dirtory[0])\n",
    "for i in tqdm(range(1,2401)):\n",
    "    try:\n",
    "        x = np.r_[x,prep_file(dirtory[i])]\n",
    "    except ValueError:\n",
    "        print(dirtory[i]+'is not properly formated')"
   ]
  },
  {
   "cell_type": "code",
   "execution_count": null,
   "metadata": {},
   "outputs": [],
   "source": [
    "print(f\"Mean time for feature extraction: {np.mean(e_t)} ms\")"
   ]
  },
  {
   "cell_type": "code",
   "execution_count": null,
   "metadata": {},
   "outputs": [],
   "source": [
    "dirtory = glob('./updated_dataset/old_underwater_dataset/*/*.csv')\n",
    "\n",
    "for i in tqdm(range(1,100)):\n",
    "    try:\n",
    "        x = prep_file(dirtory[i])\n",
    "        \n",
    "    except ValueError:\n",
    "        print(dirtory[i]+'is not properly formated')\n",
    "print(np.mean(e_t))"
   ]
  },
  {
   "cell_type": "code",
   "execution_count": 10,
   "metadata": {},
   "outputs": [
    {
     "name": "stdout",
     "output_type": "stream",
     "text": [
      "(2400, 16)\n",
      "(2400,)\n"
     ]
    }
   ],
   "source": [
    "x_t = x[:,:-1]\n",
    "y_t = x[:,-1]\n",
    "print(x_t.shape)\n",
    "print(y_t.shape)"
   ]
  },
  {
   "cell_type": "code",
   "execution_count": 11,
   "metadata": {},
   "outputs": [],
   "source": [
    "# Feature normalization using min_max normalization\n",
    "from sklearn.preprocessing import MinMaxScaler\n",
    "mm = MinMaxScaler()\n",
    "x_t = mm.fit_transform(x_t)"
   ]
  },
  {
   "cell_type": "code",
   "execution_count": null,
   "metadata": {},
   "outputs": [],
   "source": [
    "# x_t = np.delete(x_t,[3,13,14], 1)\n",
    "# print(x_t.shape)"
   ]
  },
  {
   "cell_type": "markdown",
   "metadata": {},
   "source": [
    "# SVM"
   ]
  },
  {
   "cell_type": "code",
   "execution_count": null,
   "metadata": {},
   "outputs": [],
   "source": [
    "from sklearn.svm import SVC\n",
    "from sklearn.pipeline import make_pipeline\n",
    "from sklearn.preprocessing import StandardScaler\n",
    "\n",
    "kf = KFold(n_splits=5, random_state=None, shuffle=False)\n",
    "kf.get_n_splits(x_t)\n",
    "print(x_t.shape)\n",
    "\n",
    "cm1_list = []\n",
    "cm2_list = []\n",
    "test_acc = []\n",
    "train_acc = []\n",
    "for train_index, test_index in kf.split(x_t):\n",
    "    clf = make_pipeline(SVC(gamma='auto',kernel='sigmoid'),verbose =True) #‘linear’, ‘rbf’, ‘sigmoid’ ‘scale’, ‘auto’\n",
    "    clf.fit(x_t[train_index], y_t[train_index])\n",
    "\n",
    "    y_pred = clf.predict(x_t[test_index])\n",
    "    y_pred2 = clf.predict(x_t[train_index])\n",
    "    \n",
    "    cm1_list.append(confusion_matrix(y_t[test_index], y_pred))\n",
    "    test_acc.append(metrics.accuracy_score(y_t[test_index], y_pred)*100)\n",
    "    cm2_list.append(confusion_matrix(y_t[train_index], y_pred2))\n",
    "    train_acc.append(metrics.accuracy_score(y_t[train_index], y_pred2)*100)\n",
    "\n",
    "cm1_list = np.array(cm1_list)\n",
    "cm2_list = np.array(cm2_list)\n",
    "test_acc = np.array(test_acc)\n",
    "train_acc = np.array(train_acc)\n",
    "\n",
    "cm = np.zeros((8,8))\n",
    "\n",
    "for j in range(5):\n",
    "    cm = np.add(cm,cm1_list[j])\n",
    "    \n",
    "print(cm)\n",
    "print(\"SVM Train Accuracy = \",np.mean(train_acc),'%')\n",
    "print(\"SVM Test Accuracy = \",np.mean(test_acc),'%')"
   ]
  },
  {
   "cell_type": "markdown",
   "metadata": {},
   "source": [
    "# KNN"
   ]
  },
  {
   "cell_type": "code",
   "execution_count": null,
   "metadata": {},
   "outputs": [],
   "source": [
    "from sklearn.neighbors import KNeighborsClassifier\n",
    "\n",
    "kf = KFold(n_splits=5, random_state=None, shuffle=False)\n",
    "kf.get_n_splits(x_t)\n",
    "print(x_t.shape)\n",
    "\n",
    "cm1_list = []\n",
    "cm2_list = []\n",
    "test_acc = []\n",
    "train_acc = []\n",
    "for train_index, test_index in kf.split(x_t):\n",
    "    clf = KNeighborsClassifier(n_neighbors=5) #weights='uniform'\n",
    "    clf.fit(x_t[train_index], y_t[train_index])\n",
    "\n",
    "    y_pred = clf.predict(x_t[test_index])\n",
    "    y_pred2 = clf.predict(x_t[train_index])\n",
    "    \n",
    "    cm1_list.append(confusion_matrix(y_t[test_index], y_pred))\n",
    "    test_acc.append(metrics.accuracy_score(y_t[test_index], y_pred)*100)\n",
    "    cm2_list.append(confusion_matrix(y_t[train_index], y_pred2))\n",
    "    train_acc.append(metrics.accuracy_score(y_t[train_index], y_pred2)*100)\n",
    "\n",
    "cm1_list = np.array(cm1_list)\n",
    "cm2_list = np.array(cm2_list)\n",
    "test_acc = np.array(test_acc)\n",
    "train_acc = np.array(train_acc)\n",
    "\n",
    "cm = np.zeros((8,8))\n",
    "\n",
    "for j in range(5):\n",
    "    cm = np.add(cm,cm1_list[j])\n",
    "    \n",
    "print(cm)\n",
    "print(\"KNN Train Accuracy = \",np.mean(train_acc),'%')\n",
    "print(\"KNN Test Accuracy = \",np.mean(test_acc),'%')"
   ]
  },
  {
   "cell_type": "markdown",
   "metadata": {},
   "source": [
    "# DT"
   ]
  },
  {
   "cell_type": "code",
   "execution_count": null,
   "metadata": {},
   "outputs": [],
   "source": [
    "from sklearn.tree import DecisionTreeClassifier\n",
    "from sklearn.datasets import make_classification\n",
    "from sklearn.metrics import precision_score, recall_score, f1_score, accuracy_score\n",
    "from sklearn import tree\n",
    "import graphviz\n",
    "\n",
    "kf = KFold(n_splits=5, random_state=None, shuffle=False)\n",
    "kf.get_n_splits(x_t2)\n",
    "print(x_t2.shape)\n",
    "\n",
    "cm1_list = []\n",
    "cm2_list = []\n",
    "test_acc = []\n",
    "train_acc = []\n",
    "test_precision = []\n",
    "train_precision = []\n",
    "test_recall = []\n",
    "train_recall = []\n",
    "train_f1 = []\n",
    "test_f1 = []\n",
    "\n",
    "for train_index, test_index in kf.split(x_t2):\n",
    "    clf = DecisionTreeClassifier(criterion='entropy', max_depth=None, random_state=35) #gini, entropy\n",
    "    clf.fit(x_t2[train_index], y_t[train_index])\n",
    "\n",
    "    y_pred = clf.predict(x_t[test_index])\n",
    "    y_pred2 = clf.predict(x_t[train_index])\n",
    "    \n",
    "    cm1_list.append(confusion_matrix(y_t[test_index], y_pred))\n",
    "    test_acc.append(metrics.accuracy_score(y_t[test_index], y_pred)*100)\n",
    "    cm2_list.append(confusion_matrix(y_t[train_index], y_pred2))\n",
    "    train_acc.append(metrics.accuracy_score(y_t[train_index], y_pred2)*100)\n",
    "    \n",
    "    test_precision.append(precision_score(y_t[test_index], y_pred, average = 'macro')*100)\n",
    "    train_precision.append(precision_score(y_t[train_index], y_pred2, average = 'macro')*100)\n",
    "    \n",
    "    test_recall.append(recall_score(y_t[test_index], y_pred, average = 'macro')*100)\n",
    "    train_recall.append(recall_score(y_t[train_index], y_pred2, average = 'macro')*100)\n",
    "    \n",
    "    test_f1.append(f1_score(y_t[test_index], y_pred, average = 'macro')*100)\n",
    "    train_f1.append(f1_score(y_t[train_index], y_pred2, average = 'macro')*100)\n",
    "\n",
    "cm1_list = np.array(cm1_list)\n",
    "cm2_list = np.array(cm2_list)\n",
    "# test_acc = np.array(test_acc)\n",
    "# train_acc = np.array(train_acc)\n",
    "importances = clf.feature_importances_\n",
    "print(importances)\n",
    "\n",
    "cm = np.zeros((8,8))\n",
    "\n",
    "for j in range(5):\n",
    "    cm = np.add(cm,cm1_list[j])\n",
    "    \n",
    "print(cm)\n",
    "print(\"DT Train Accuracy = \",np.mean(train_acc),'%')\n",
    "print(\"DT Test Accuracy = \",np.mean(test_acc),'%')\n",
    "\n",
    "print('Precision Train: %.3f' % np.mean(train_precision),'%')\n",
    "print('Precision Test: %.3f' % np.mean(test_precision),'%')\n",
    "\n",
    "\n",
    "print('Recall Train: %.3f' % np.mean(train_recall),'%')\n",
    "print('Recall Test: %.3f' % np.mean(test_recall),'%')\n",
    "\n",
    "print('F1 Score Train: %.3f' % np.mean(train_f1),'%')\n",
    "print('F1 Score Test: %.3f' % np.mean(test_f1),'%')"
   ]
  },
  {
   "cell_type": "code",
   "execution_count": 61,
   "metadata": {},
   "outputs": [
    {
     "name": "stdout",
     "output_type": "stream",
     "text": [
      "(2400, 13)\n",
      "Execution time: 0.9777545928955078 ms\n",
      "Execution time: 0.1575946807861328 ms\n",
      "Execution time: 0.06461143493652344 ms\n",
      "Execution time: 0.055789947509765625 ms\n",
      "Execution time: 0.06747245788574219 ms\n",
      "Execution time: 0.26917457580566406 ms\n",
      "Execution time: 0.2732276916503906 ms\n",
      "Execution time: 0.1220703125 ms\n",
      "Execution time: 0.09322166442871094 ms\n",
      "Execution time: 0.09846687316894531 ms\n",
      "0.21793842315673828\n"
     ]
    }
   ],
   "source": [
    "import time\n",
    "\n",
    "E_T = []\n",
    "print(x_t.shape)\n",
    "# from time import time\n",
    "for i in range(10):\n",
    "    # Record the start time\n",
    "    start_time = time.time()\n",
    "    \n",
    "    y_pred = clf.predict(x_t[i, 4:5].reshape((1, 1)))\n",
    "    \n",
    "    end_time = time.time()\n",
    "\n",
    "    # Calculate the execution time in milliseconds\n",
    "    execution_time_ms = (end_time - start_time) * 1000\n",
    "\n",
    "    print(f\"Execution time: {execution_time_ms} ms\")\n",
    "    \n",
    "    E_T.append(execution_time_ms)\n",
    "print(np.mean(E_T))\n",
    "    "
   ]
  },
  {
   "cell_type": "markdown",
   "metadata": {},
   "source": [
    "# RF"
   ]
  },
  {
   "cell_type": "code",
   "execution_count": null,
   "metadata": {},
   "outputs": [],
   "source": [
    "from sklearn.ensemble import RandomForestClassifier\n",
    "from sklearn.datasets import make_classification\n",
    "from sklearn.metrics import precision_score, recall_score, f1_score, accuracy_score\n",
    "\n",
    "n = 5\n",
    "kf = KFold(n_splits=n, random_state=None, shuffle=False)\n",
    "kf.get_n_splits(x_t)\n",
    "print(x_t.shape)\n",
    "\n",
    "cm1_list = []\n",
    "cm2_list = []\n",
    "test_acc = []\n",
    "train_acc = []\n",
    "test_precision = []\n",
    "train_precision = []\n",
    "test_recall = []\n",
    "train_recall = []\n",
    "train_f1 = []\n",
    "test_f1 = []\n",
    "\n",
    "for train_index, test_index in kf.split(x_t):\n",
    "    clf = RandomForestClassifier(n_estimators=100, criterion='entropy',max_depth=20, random_state=30) #gini, entropy,None\n",
    "    start_time = time.time()\n",
    "    clf.fit(x_t[train_index], y_t[train_index])\n",
    "    end_time = time.time()\n",
    "    \n",
    "    Training_time_ms = (end_time - start_time) * 1000\n",
    "\n",
    "    print(f\"Training time: {Training_time_ms} ms\")\n",
    "\n",
    "    y_pred = clf.predict(x_t[test_index])\n",
    "    y_pred2 = clf.predict(x_t[train_index])\n",
    "    \n",
    "    cm1_list.append(confusion_matrix(y_t[test_index], y_pred))\n",
    "    test_acc.append(metrics.accuracy_score(y_t[test_index], y_pred)*100)\n",
    "    cm2_list.append(confusion_matrix(y_t[train_index], y_pred2))\n",
    "    train_acc.append(metrics.accuracy_score(y_t[train_index], y_pred2)*100)\n",
    "    \n",
    "    test_precision.append(precision_score(y_t[test_index], y_pred, average = 'macro')*100)\n",
    "    train_precision.append(precision_score(y_t[train_index], y_pred2, average = 'macro')*100)\n",
    "    \n",
    "    test_recall.append(recall_score(y_t[test_index], y_pred, average = 'macro')*100)\n",
    "    train_recall.append(recall_score(y_t[train_index], y_pred2, average = 'macro')*100)\n",
    "    \n",
    "    test_f1.append(f1_score(y_t[test_index], y_pred, average = 'macro')*100)\n",
    "    train_f1.append(f1_score(y_t[train_index], y_pred2, average = 'macro')*100)\n",
    "\n",
    "cm1_list = np.array(cm1_list)\n",
    "cm2_list = np.array(cm2_list)\n",
    "importances = clf.feature_importances_\n",
    "print(importances)\n",
    "\n",
    "\n",
    "cm = np.zeros((8,8))\n",
    "\n",
    "for j in range(n):\n",
    "    cm = np.add(cm,cm1_list[j])\n",
    "    \n",
    "print(cm)\n",
    "print(\"RF Train Accuracy = \",np.mean(train_acc),'%')\n",
    "print(\"RF Test Accuracy = \",np.mean(test_acc),'%')\n",
    "\n",
    "print('Precision Train: %.3f' % np.mean(train_precision),'%')\n",
    "print('Precision Test: %.3f' % np.mean(test_precision),'%')\n",
    "\n",
    "print('Recall Train: %.3f' % np.mean(train_recall),'%')\n",
    "print('Recall Test: %.3f' % np.mean(test_recall),'%')\n",
    "\n",
    "print('F1 Score Train: %.3f' % np.mean(train_f1),'%')\n",
    "print('F1 Score Test: %.3f' % np.mean(test_f1),'%')"
   ]
  },
  {
   "cell_type": "markdown",
   "metadata": {},
   "source": [
    "# LDA"
   ]
  },
  {
   "cell_type": "code",
   "execution_count": null,
   "metadata": {},
   "outputs": [],
   "source": [
    "from sklearn.discriminant_analysis import LinearDiscriminantAnalysis\n",
    "from sklearn.discriminant_analysis import QuadraticDiscriminantAnalysis\n",
    "\n",
    "n = 5\n",
    "kf = KFold(n_splits=n, random_state=None, shuffle=False)\n",
    "kf.get_n_splits(x_t)\n",
    "print(x_t.shape)\n",
    "\n",
    "cm1_list = []\n",
    "cm2_list = []\n",
    "test_acc = []\n",
    "train_acc = []\n",
    "for train_index, test_index in kf.split(x_t):\n",
    "    #clf = LinearDiscriminantAnalysis(solver='svd') #‘svd’, ‘lsqr’, ‘eigen’\n",
    "    clf = QuadraticDiscriminantAnalysis()\n",
    "    clf.fit(x_t[train_index], y_t[train_index])\n",
    "\n",
    "    y_pred = clf.predict(x_t[test_index])\n",
    "    y_pred2 = clf.predict(x_t[train_index])\n",
    "    \n",
    "    cm1_list.append(confusion_matrix(y_t[test_index], y_pred))\n",
    "    test_acc.append(metrics.accuracy_score(y_t[test_index], y_pred)*100)\n",
    "    cm2_list.append(confusion_matrix(y_t[train_index], y_pred2))\n",
    "    train_acc.append(metrics.accuracy_score(y_t[train_index], y_pred2)*100)\n",
    "\n",
    "cm1_list = np.array(cm1_list)\n",
    "cm2_list = np.array(cm2_list)\n",
    "\n",
    "cm = np.zeros((8,8))\n",
    "\n",
    "for j in range(n):\n",
    "    cm = np.add(cm,cm1_list[j])\n",
    "    \n",
    "print(cm)\n",
    "print(\"LDA Train Accuracy = \",np.mean(train_acc),'%')\n",
    "print(\"LDA Test Accuracy = \",np.mean(test_acc),'%')"
   ]
  },
  {
   "cell_type": "markdown",
   "metadata": {},
   "source": [
    "# LR"
   ]
  },
  {
   "cell_type": "code",
   "execution_count": null,
   "metadata": {},
   "outputs": [],
   "source": [
    "from sklearn.linear_model import LogisticRegression\n",
    "\n",
    "n = 5\n",
    "kf = KFold(n_splits=n, random_state=None, shuffle=False)\n",
    "kf.get_n_splits(x_t)\n",
    "print(x_t.shape)\n",
    "\n",
    "cm1_list = []\n",
    "cm2_list = []\n",
    "test_acc = []\n",
    "train_acc = []\n",
    "for train_index, test_index in kf.split(x_t):\n",
    "    clf = LogisticRegression(penalty='l2', solver='liblinear') #‘l1’,‘l2’,‘elasticnet’,‘none’,,,‘newton-cg’,‘lbfgs’,‘liblinear’, ‘sag’, ‘saga’\n",
    "    clf.fit(x_t[train_index], y_t[train_index])\n",
    "\n",
    "    y_pred = clf.predict(x_t[test_index])\n",
    "    y_pred2 = clf.predict(x_t[train_index])\n",
    "    \n",
    "    cm1_list.append(confusion_matrix(y_t[test_index], y_pred))\n",
    "    test_acc.append(metrics.accuracy_score(y_t[test_index], y_pred)*100)\n",
    "    cm2_list.append(confusion_matrix(y_t[train_index], y_pred2))\n",
    "    train_acc.append(metrics.accuracy_score(y_t[train_index], y_pred2)*100)\n",
    "\n",
    "cm1_list = np.array(cm1_list)\n",
    "cm2_list = np.array(cm2_list)\n",
    "\n",
    "cm = np.zeros((8,8))\n",
    "\n",
    "for j in range(n):\n",
    "    cm = np.add(cm,cm1_list[j])\n",
    "    \n",
    "print(cm)\n",
    "print(\"LR Train Accuracy = \",np.mean(train_acc),'%')\n",
    "print(\"LR Test Accuracy = \",np.mean(test_acc),'%')"
   ]
  },
  {
   "cell_type": "markdown",
   "metadata": {},
   "source": [
    "# Gradient Boosting"
   ]
  },
  {
   "cell_type": "code",
   "execution_count": null,
   "metadata": {},
   "outputs": [],
   "source": [
    "from sklearn.ensemble import GradientBoostingClassifier\n",
    "from sklearn.metrics import precision_score, recall_score, f1_score, accuracy_score\n",
    "\n",
    "n = 5\n",
    "kf = KFold(n_splits=n, random_state=None, shuffle=False)\n",
    "kf.get_n_splits(x_t)\n",
    "print(x_t.shape)\n",
    "\n",
    "cm1_list = []\n",
    "cm2_list = []\n",
    "test_acc = []\n",
    "train_acc = []\n",
    "test_precision = []\n",
    "train_precision = []\n",
    "test_recall = []\n",
    "train_recall = []\n",
    "train_f1 = []\n",
    "test_f1 = []\n",
    "\n",
    "for train_index, test_index in kf.split(x_t):\n",
    "    clf = GradientBoostingClassifier(n_estimators=100, learning_rate=0.1,max_depth=20, random_state=0)\n",
    "    #loss= 'log_loss' , 'deviance' , exponential\n",
    "    clf.fit(x_t[train_index], y_t[train_index])\n",
    "    y_pred = clf.predict(x_t[test_index])\n",
    "    y_pred2 = clf.predict(x_t[train_index])\n",
    "    \n",
    "    cm1_list.append(confusion_matrix(y_t[test_index], y_pred))\n",
    "    test_acc.append(metrics.accuracy_score(y_t[test_index], y_pred)*100)\n",
    "    cm2_list.append(confusion_matrix(y_t[train_index], y_pred2))\n",
    "    train_acc.append(metrics.accuracy_score(y_t[train_index], y_pred2)*100)\n",
    "    \n",
    "    test_precision.append(precision_score(y_t[test_index], y_pred, average = 'macro')*100)\n",
    "    train_precision.append(precision_score(y_t[train_index], y_pred2, average = 'macro')*100)\n",
    "    \n",
    "    test_recall.append(recall_score(y_t[test_index], y_pred, average = 'macro')*100)\n",
    "    train_recall.append(recall_score(y_t[train_index], y_pred2, average = 'macro')*100)\n",
    "    \n",
    "    test_f1.append(f1_score(y_t[test_index], y_pred, average = 'macro')*100)\n",
    "    train_f1.append(f1_score(y_t[train_index], y_pred2, average = 'macro')*100)\n",
    "\n",
    "cm1_list = np.array(cm1_list)\n",
    "cm2_list = np.array(cm2_list)\n",
    "importances = clf.feature_importances_\n",
    "print(importances)\n",
    "\n",
    "\n",
    "cm = np.zeros((8,8))\n",
    "\n",
    "for j in range(n):\n",
    "    cm = np.add(cm,cm1_list[j])\n",
    "    \n",
    "print(cm)\n",
    "print(\"Gradient Boosting Train Accuracy = \",np.mean(train_acc),'%')\n",
    "print(\"Gradient Boosting Test Accuracy = \",np.mean(test_acc),'%')\n",
    "\n",
    "print('Precision Train: %.3f' % np.mean(train_precision),'%')\n",
    "print('Precision Test: %.3f' % np.mean(test_precision),'%')\n",
    "\n",
    "\n",
    "print('Recall Train: %.3f' % np.mean(train_recall),'%')\n",
    "print('Recall Test: %.3f' % np.mean(test_recall),'%')\n",
    "\n",
    "print('F1 Score Train: %.3f' % np.mean(train_f1),'%')\n",
    "print('F1 Score Test: %.3f' % np.mean(test_f1),'%')"
   ]
  },
  {
   "cell_type": "markdown",
   "metadata": {},
   "source": [
    "# Confusion Matrix"
   ]
  },
  {
   "cell_type": "code",
   "execution_count": 129,
   "metadata": {},
   "outputs": [
    {
     "data": {
      "text/plain": [
       "<AxesSubplot:title={'center':'UWN position = 90 degree'}, xlabel='Predicted labels', ylabel='Actual labels'>"
      ]
     },
     "execution_count": 129,
     "metadata": {},
     "output_type": "execute_result"
    },
    {
     "data": {
      "image/png": "[encoded data removed]",
      "text/plain": [
       "<Figure size 504x288 with 2 Axes>"
      ]
     },
     "metadata": {
      "needs_background": "light"
     },
     "output_type": "display_data"
    }
   ],
   "source": [
    "import matplotlib.pyplot as plt\n",
    "\n",
    "def plot_confusion_matrix(cm, classes, normalize=True,title=None,cmap=plt.cm.YlGnBu):\n",
    "    if not title:\n",
    "        title = 'UWN position = 90 degree'\n",
    "\n",
    "    #calculataion normalized confusion matrix\n",
    "    cm = cm.astype('float') / cm.sum(axis=1)[:, np.newaxis]\n",
    "    cm = cm*100\n",
    "    logging.info(\"Normalized confusion matrix\")\n",
    "    logging.info(cm)\n",
    "\n",
    "    #setting up plots\n",
    "    fig, ax = plt.subplots(figsize = (7,4))\n",
    "    im = ax.imshow(cm,cmap=cmap)\n",
    "    ax.figure.colorbar(im, ax=ax, label ='Accuracy (%)')\n",
    "    #show all ticks\n",
    "    ax.set(xticks=np.arange(cm.shape[1]), yticks=np.arange(cm.shape[0]),\n",
    "        xticklabels=classes, yticklabels=classes, title=title,\n",
    "        ylabel='Actual labels', xlabel='Predicted labels')\n",
    "    ax.tick_params(labelsize = 9)\n",
    "    # Rotate the tick labels and set their alignment.\n",
    "    plt.setp(ax.get_xticklabels(), rotation=0, ha=\"right\", rotation_mode=\"anchor\")\n",
    "\n",
    "    # Loop over data dimensions and create text annotations.\n",
    "    fmt = '.2f'\n",
    "    thresh = cm.max() / 2.\n",
    "    for i in range(cm.shape[0]):\n",
    "        for j in range(cm.shape[1]):\n",
    "#             if cm[i,j] > 0.09:\n",
    "            ax.text(j, i, format(cm[i, j], fmt),\n",
    "                ha=\"center\", va=\"center\", size= 9,\n",
    "                color=\"white\" if cm[i, j] > thresh else \"black\")\n",
    "    fig.tight_layout()\n",
    "    return ax\n",
    "\n",
    "plot_confusion_matrix(cm, np.arange(8))\n",
    "# name = 'd90'\n",
    "# plt.savefig(name + '.svg', dpi = 300,bbox_inches='tight')"
   ]
  },
  {
   "cell_type": "markdown",
   "metadata": {},
   "source": [
    "# Execusion Time"
   ]
  },
  {
   "cell_type": "code",
   "execution_count": 111,
   "metadata": {},
   "outputs": [
    {
     "name": "stdout",
     "output_type": "stream",
     "text": [
      "(2400, 16)\n",
      "0.03031635284423828\n"
     ]
    }
   ],
   "source": [
    "import time\n",
    "\n",
    "E_T = []\n",
    "#y_pred = clf.predict(x_t[test_index])\n",
    "print(x_t.shape)\n",
    "# from time import time\n",
    "for i in range(1000):\n",
    "    # Record the start time\n",
    "    start_time = time.time()\n",
    "    y_pred = clf.predict(x_t[i].reshape((1, 16)))\n",
    "    \n",
    "    end_time = time.time()\n",
    "\n",
    "    # Calculate the execution time in milliseconds\n",
    "    execution_time_ms = (end_time - start_time) * 1000\n",
    "\n",
    "    #print(f\"Execution time: {execution_time_ms} ms\")\n",
    "    \n",
    "    E_T.append(execution_time_ms)\n",
    "print(np.mean(E_T))"
   ]
  }
 ],
 "metadata": {
  "kernelspec": {
   "display_name": "Python 3",
   "language": "python",
   "name": "python3"
  },
  "language_info": {
   "codemirror_mode": {
    "name": "ipython",
    "version": 3
   },
   "file_extension": ".py",
   "mimetype": "text/x-python",
   "name": "python",
   "nbconvert_exporter": "python",
   "pygments_lexer": "ipython3",
   "version": "3.6.9"
  }
 },
 "nbformat": 4,
 "nbformat_minor": 4
}
